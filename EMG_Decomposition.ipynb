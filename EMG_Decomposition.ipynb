{
 "cells": [
  {
   "cell_type": "code",
   "execution_count": 38,
   "metadata": {},
   "outputs": [],
   "source": [
    "import numpy as np\n",
    "import matplotlib.pyplot as plt"
   ]
  },
  {
   "cell_type": "code",
   "execution_count": 13,
   "metadata": {},
   "outputs": [],
   "source": [
    "def read_signals():\n",
    "    \n",
    "    data = [signal.rstrip('\\n') for signal in open('Data.txt')]\n",
    "    signals = []\n",
    "\n",
    "    for signal in data:\n",
    "        signals.append(float(signal))\n",
    "    \n",
    "    return signals"
   ]
  },
  {
   "cell_type": "code",
   "execution_count": 33,
   "metadata": {},
   "outputs": [],
   "source": [
    "def rectify(raw_signals):\n",
    "    \n",
    "    recitifed_signals = []\n",
    "    \n",
    "    for signal in raw_signals:\n",
    "        \n",
    "        recitifed_signals.append(np.absolute(signal))\n",
    "        \n",
    "    return recitifed_signals"
   ]
  },
  {
   "cell_type": "code",
   "execution_count": 127,
   "metadata": {},
   "outputs": [],
   "source": [
    "def set_threshold(rectified_signals):\n",
    "    \n",
    "    threshold = 3 * np.std(rectified_signals[0:110])\n",
    "    return threshold\n",
    "    "
   ]
  },
  {
   "cell_type": "code",
   "execution_count": 130,
   "metadata": {},
   "outputs": [],
   "source": [
    "def moving_average(signals, threshold, window_size: int=20):\n",
    "    \n",
    "    detected_peaks =[]\n",
    "    detected_peaks_index = []\n",
    "    signal_index = window_size\n",
    "    \n",
    "    while(signal_index<len(signals)):\n",
    "\n",
    "        averaged_samples = np.average(signals[signal_index -window_size:\n",
    "                                              signal_index])\n",
    "          \n",
    "        if(averaged_samples > threshold):\n",
    "\n",
    "            detected_peaks_index.append(signal_index)\n",
    "            detected_peaks.append(averaged_samples)\n",
    "                \n",
    "            new_signal_index = signal_index + window_size +1\n",
    "\n",
    "            if(signals[new_signal_index] > threshold):\n",
    "                new_signal_index+=1\n",
    "                    \n",
    "                while(signals[new_signal_index] > threshold):\n",
    "                    new_signal_index+=1\n",
    "                    \n",
    "                signal_index += new_signal_index\n",
    "                \n",
    "            else:\n",
    "                signal_index+=window_size \n",
    "        else:\n",
    "            signal_index+=1\n",
    "                    \n",
    "    return detected_peaks, detected_peaks_index"
   ]
  },
  {
   "cell_type": "code",
   "execution_count": null,
   "metadata": {},
   "outputs": [],
   "source": [
    "def MU_to_MUAP():\n",
    "    "
   ]
  },
  {
   "cell_type": "code",
   "execution_count": 128,
   "metadata": {},
   "outputs": [],
   "source": [
    "def decompose_EMG(signals, window_size: int=20):\n",
    "    \n",
    "    xaxis = np.arange(0,300)\n",
    "    rectified_signals = rectify(signals)\n",
    "    threshold = set_threshold(rectified_signals)\n",
    "    indices, sigs = moving_average(rectified_signals, threshold)\n",
    "#     figure, ax = plt.subplots(1, 1, figsize=(10, 10))\n",
    "#     ax.grid()\n",
    "#     ax.plot(xaxis, rectified_signals[0:300], color='red')\n",
    "#     ax.title.set_text('Before Noise Filtering')\n",
    "    print(threshold)\n",
    "    "
   ]
  },
  {
   "cell_type": "code",
   "execution_count": 129,
   "metadata": {},
   "outputs": [
    {
     "name": "stdout",
     "output_type": "stream",
     "text": [
      "11.210159045074084\n"
     ]
    }
   ],
   "source": [
    "DiffTh = 12.65 ** 5\n",
    "signals = read_signals()\n",
    "decompose_EMG(signals)\n"
   ]
  },
  {
   "cell_type": "code",
   "execution_count": 118,
   "metadata": {},
   "outputs": [
    {
     "ename": "NameError",
     "evalue": "name 'threshold' is not defined",
     "output_type": "error",
     "traceback": [
      "\u001b[0;31m---------------------------------------------------------------------------\u001b[0m",
      "\u001b[0;31mNameError\u001b[0m                                 Traceback (most recent call last)",
      "\u001b[0;32m<ipython-input-118-874ba54692b0>\u001b[0m in \u001b[0;36m<module>\u001b[0;34m\u001b[0m\n\u001b[0;32m----> 1\u001b[0;31m \u001b[0mprint\u001b[0m\u001b[0;34m(\u001b[0m\u001b[0mthreshold\u001b[0m\u001b[0;34m)\u001b[0m\u001b[0;34m\u001b[0m\u001b[0;34m\u001b[0m\u001b[0m\n\u001b[0m",
      "\u001b[0;31mNameError\u001b[0m: name 'threshold' is not defined"
     ]
    }
   ],
   "source": []
  }
 ],
 "metadata": {
  "kernelspec": {
   "display_name": "Python 3",
   "language": "python",
   "name": "python3"
  },
  "language_info": {
   "codemirror_mode": {
    "name": "ipython",
    "version": 3
   },
   "file_extension": ".py",
   "mimetype": "text/x-python",
   "name": "python",
   "nbconvert_exporter": "python",
   "pygments_lexer": "ipython3",
   "version": "3.7.3"
  }
 },
 "nbformat": 4,
 "nbformat_minor": 2
}
