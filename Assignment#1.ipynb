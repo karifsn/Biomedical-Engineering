{
 "cells": [
  {
   "cell_type": "code",
   "execution_count": 2,
   "metadata": {},
   "outputs": [],
   "source": [
    "import numpy as np\n",
    "import matplotlib.pyplot as plt"
   ]
  },
  {
   "cell_type": "code",
   "execution_count": 66,
   "metadata": {},
   "outputs": [],
   "source": [
    "input = [signal.rstrip('\\n') for signal in open('DataN.txt')]\n",
    "data = []\n",
    "for signal in input:\n",
    "    data.append(signal)\n"
   ]
  },
  {
   "cell_type": "code",
   "execution_count": 92,
   "metadata": {},
   "outputs": [],
   "source": [
    "def derivatise(signals):\n",
    "    filterd_signals= np.zeros((len(signals)))\n",
    "    filterd_signals[0:2] = signals[0:2]\n",
    "\n",
    "    T = 1/256\n",
    "    for s in range(2,len(signals)-2):\n",
    "        op = -float(signals[s-1])\n",
    "        op -= (2*(float(signals[s-2])))\n",
    "        op += (2*(float(signals[s+2])))\n",
    "        op += (float(signals[s+1]))\n",
    "        op *= (1/(8*T))\n",
    "        \n",
    "        filterd_signals[s] += np.square(op)\n",
    "    \n",
    "    return filterd_signals"
   ]
  },
  {
   "cell_type": "code",
   "execution_count": 93,
   "metadata": {},
   "outputs": [],
   "source": [
    "def smoothen(signals, N):\n",
    "    smoothed_signals = np.zeros((len(signals)))\n",
    "    smoothed_signals[0:N] = signals[0:N]\n",
    "    for s in range(N, len(signals)):\n",
    "        for n in range(N, -1, -1):\n",
    "            smoothed_signals[s] += (signals[s-n])\n",
    "        smoothed_signals[s] *= (1/N)\n",
    "    return smoothed_signals"
   ]
  },
  {
   "cell_type": "code",
   "execution_count": null,
   "metadata": {},
   "outputs": [],
   "source": []
  },
  {
   "cell_type": "code",
   "execution_count": null,
   "metadata": {},
   "outputs": [],
   "source": []
  },
  {
   "cell_type": "code",
   "execution_count": null,
   "metadata": {},
   "outputs": [],
   "source": []
  }
 ],
 "metadata": {
  "kernelspec": {
   "display_name": "Python 3",
   "language": "python",
   "name": "python3"
  },
  "language_info": {
   "codemirror_mode": {
    "name": "ipython",
    "version": 3
   },
   "file_extension": ".py",
   "mimetype": "text/x-python",
   "name": "python",
   "nbconvert_exporter": "python",
   "pygments_lexer": "ipython3",
   "version": "3.7.3"
  }
 },
 "nbformat": 4,
 "nbformat_minor": 2
}
