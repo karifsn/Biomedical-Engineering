{
 "cells": [
  {
   "cell_type": "code",
   "execution_count": 16,
   "metadata": {},
   "outputs": [],
   "source": [
    "import numpy as np\n",
    "import matplotlib.pyplot as plt"
   ]
  },
  {
   "cell_type": "code",
   "execution_count": 5,
   "metadata": {},
   "outputs": [],
   "source": [
    "def read_signals():\n",
    "    \n",
    "    data = [signal.rstrip('\\n') for signal in open('../Assignment2/Data.txt')]\n",
    "    signals = []\n",
    "\n",
    "    for signal in data:\n",
    "        signals.append(float(signal))\n",
    "    \n",
    "    return signals"
   ]
  },
  {
   "cell_type": "code",
   "execution_count": 14,
   "metadata": {},
   "outputs": [],
   "source": [
    "def rectify(raw_signals):\n",
    "    \n",
    "    recitifed_signals = []\n",
    "    \n",
    "    for signal in raw_signals:\n",
    "        \n",
    "        recitifed_signals.append(np.absolute(signal))\n",
    "        \n",
    "    return recitifed_signals"
   ]
  },
  {
   "cell_type": "code",
   "execution_count": 13,
   "metadata": {},
   "outputs": [],
   "source": [
    "def set_threshold(rectified_signals):\n",
    "    \n",
    "    threshold = 3 * np.std(rectified_signals[0:110])\n",
    "    return threshold\n",
    "    "
   ]
  },
  {
   "cell_type": "code",
   "execution_count": 44,
   "metadata": {},
   "outputs": [],
   "source": [
    "def moving_average(signals, threshold, window_size: int=20):\n",
    "    \n",
    "    detected_peaks =[]\n",
    "    detected_peaks_index = []\n",
    "    signal_index = window_size\n",
    "    \n",
    "    while(signal_index<len(signals)):\n",
    "\n",
    "        averaged_samples = np.average(signals[signal_index -window_size:\n",
    "                                              signal_index])\n",
    "          \n",
    "        if(averaged_samples > threshold):\n",
    "\n",
    "            detected_peaks_index.append(signal_index)\n",
    "            detected_peaks.append(averaged_samples)\n",
    "                \n",
    "            new_signal_index = signal_index + window_size +1\n",
    "\n",
    "            if(signals[new_signal_index] > threshold):\n",
    "                new_signal_index+=1\n",
    "                    \n",
    "                while(signals[new_signal_index] > threshold):\n",
    "                    new_signal_index+=1\n",
    "                    \n",
    "                signal_index += new_signal_index\n",
    "                \n",
    "            else:\n",
    "                signal_index+=window_size \n",
    "        else:\n",
    "            signal_index+=1\n",
    "                    \n",
    "    return detected_peaks, detected_peaks_index"
   ]
  },
  {
   "cell_type": "code",
   "execution_count": null,
   "metadata": {},
   "outputs": [],
   "source": [
    "def MU_to_MUAP():"
   ]
  },
  {
   "cell_type": "code",
   "execution_count": 41,
   "metadata": {},
   "outputs": [],
   "source": [
    "def decompose_EMG(signals, window_size: int=20):\n",
    "    \n",
    "    rectified_signals = rectify(signals)\n",
    "    threshold = set_threshold(rectified_signals)\n",
    "    indices, sigs = moving_average(rectified_signals, threshold)\n",
    "    xaxis = np.arange(0,5000)\n",
    "    figure, ax = plt.subplots(1, 1, figsize=(10, 10))\n",
    "    ax.grid()\n",
    "    ax.plot(xaxis, rectified_signals[30000:35000], color='red')\n",
    "    ax.title.set_text('Before Noise Filtering')    "
   ]
  },
  {
   "cell_type": "code",
   "execution_count": 42,
   "metadata": {},
   "outputs": [
    {
     "data": {
      "image/png": "[encoded data removed]",
      "text/plain": [
       "<Figure size 720x720 with 1 Axes>"
      ]
     },
     "metadata": {
      "needs_background": "light"
     },
     "output_type": "display_data"
    }
   ],
   "source": [
    "templates = []\n",
    "DiffTh = 12.65 ** 5\n",
    "signals = read_signals()\n",
    "decompose_EMG(signals)"
   ]
  },
  {
   "cell_type": "code",
   "execution_count": null,
   "metadata": {},
   "outputs": [],
   "source": []
  }
 ],
 "metadata": {
  "kernelspec": {
   "display_name": "Python 3",
   "language": "python",
   "name": "python3"
  },
  "language_info": {
   "codemirror_mode": {
    "name": "ipython",
    "version": 3
   },
   "file_extension": ".py",
   "mimetype": "text/x-python",
   "name": "python",
   "nbconvert_exporter": "python",
   "pygments_lexer": "ipython3",
   "version": "3.7.3"
  }
 },
 "nbformat": 4,
 "nbformat_minor": 2
}
