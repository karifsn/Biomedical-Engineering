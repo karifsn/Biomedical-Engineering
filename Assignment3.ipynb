{
 "cells": [
  {
   "cell_type": "code",
   "execution_count": 219,
   "metadata": {},
   "outputs": [],
   "source": [
    "import numpy as np\n",
    "from sklearn.neighbors import KNeighborsClassifier \n",
    "from sklearn.metrics import accuracy_score\n",
    "import matplotlib.pyplot as plt"
   ]
  },
  {
   "cell_type": "code",
   "execution_count": 236,
   "metadata": {},
   "outputs": [],
   "source": [
    "def read_dataset():\n",
    "    \n",
    "    with open('Training_SpikeTrains.txt') as fp:\n",
    "        data = [list(map(int, line.strip().split('\\t'))) for line in fp]\n",
    "        flat_list = [item for data_list in data for item in data_list]\n",
    "    \n",
    "    training_spikes_chunks = [flat_list[spike_index : spike_index + 36]\n",
    "                                    for spike_index in range(0, len(flat_list), 36)]\n",
    "    \n",
    "\n",
    "    with open('Angle_Training.txt') as fp:\n",
    "        angle_training = [list(map(float, line.strip().split('\\t'))) for line in fp]\n",
    "        angles = [item for data_list in angle_training for item in data_list]\n",
    "        \n",
    "    with open('Testing_SpikeTrains.txt') as fp:\n",
    "        data_spikes = [list(map(int, line.strip().split('\\t'))) for line in fp]\n",
    "        testing_spikes = [item for data_list in data_spikes for item in data_list]\n",
    "    \n",
    "    testing_spikes_chunks = [testing_spikes[spike_index : spike_index + 36]\n",
    "                                    for spike_index in range(0, len(testing_spikes), 36)]\n",
    "    \n",
    "    with open('Angle_Testing.txt') as fp:\n",
    "        angles_test = [list(map(float, line.strip().split('\\t'))) for line in fp]\n",
    "        angles_testing = [item for data_list in angles_test for item in data_list]\n",
    "        \n",
    "    return training_spikes_chunks, angles, testing_spikes_chunks, angles_testing\n"
   ]
  },
  {
   "cell_type": "code",
   "execution_count": 214,
   "metadata": {},
   "outputs": [],
   "source": [
    "def sort_target_into_labels(target):\n",
    "    \n",
    "    labelled_target = []\n",
    "    \n",
    "    for angle in target:\n",
    "        \n",
    "        if(angle >= 0 and angle <=90):\n",
    "            angle_label = '0 to 90'\n",
    "        if(angle >= 90 and angle <=180):\n",
    "            angle_label = '90 to 180'\n",
    "        if(angle >= 180 and angle <= 270):\n",
    "            angle_label = '180 to 270'\n",
    "        if(angle >= 270 and angle <= 360):\n",
    "            angle_label = '270 to 360'\n",
    "        \n",
    "        labelled_target.append(angle_label)\n",
    "        \n",
    "    return labelled_target"
   ]
  },
  {
   "cell_type": "code",
   "execution_count": 220,
   "metadata": {},
   "outputs": [],
   "source": [
    "def plot_accuracies(accuracies):\n",
    "    \n",
    "    k_neighbours = np.arange(1,301)\n",
    "    \n",
    "    plt.plot(k_neighbours, accuracies, label = 'Testing dataset Accuracy')\n",
    "    "
   ]
  },
  {
   "cell_type": "code",
   "execution_count": 237,
   "metadata": {},
   "outputs": [
    {
     "data": {
      "image/png": "[encoded data removed]",
      "text/plain": [
       "<Figure size 432x288 with 1 Axes>"
      ]
     },
     "metadata": {
      "needs_background": "light"
     },
     "output_type": "display_data"
    }
   ],
   "source": [
    "training_spikes, training_angles, testing_spikes, testing_angles = read_dataset()\n",
    "labelled_target = sort_target_into_labels(training_angles)\n",
    "labelled_target_testing = sort_target_into_labels(testing_angles)\n",
    "\n",
    "classifier_accuracies = []\n",
    "\n",
    "for k in range(1, 301):\n",
    "    \n",
    "    knn = KNeighborsClassifier(n_neighbors= k)\n",
    "    knn.fit(training_spikes, labelled_target)\n",
    "\n",
    "    predicted_angles = knn.predict(testing_spikes)\n",
    "    accuracy = accuracy_score(labelled_target_testing, predicted_angles)\n",
    "\n",
    "    classifier_accuracies.append(accuracy)\n",
    "\n",
    "plot_accuracies(classifier_accuracies)"
   ]
  }
 ],
 "metadata": {
  "kernelspec": {
   "display_name": "Python 3",
   "language": "python",
   "name": "python3"
  },
  "language_info": {
   "codemirror_mode": {
    "name": "ipython",
    "version": 3
   },
   "file_extension": ".py",
   "mimetype": "text/x-python",
   "name": "python",
   "nbconvert_exporter": "python",
   "pygments_lexer": "ipython3",
   "version": "3.7.3"
  }
 },
 "nbformat": 4,
 "nbformat_minor": 2
}
