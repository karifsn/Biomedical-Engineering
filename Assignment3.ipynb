{
 "cells": [
  {
   "cell_type": "code",
   "execution_count": 13,
   "metadata": {},
   "outputs": [],
   "source": [
    "import numpy as np\n",
    "from sklearn.neighbors import KNeighborsClassifier \n",
    "from sklearn.metrics import accuracy_score\n",
    "import matplotlib.pyplot as plt\n",
    "from sklearn import preprocessing"
   ]
  },
  {
   "cell_type": "code",
   "execution_count": 21,
   "metadata": {},
   "outputs": [],
   "source": [
    "def read_angles(file_path):\n",
    "    \n",
    "    with open(file_path) as fp:\n",
    "        \n",
    "        angles_dataset = [list(map(float, line.strip().split('\\t'))) for line in fp]\n",
    "        angles = [angle for angles_list in angles_dataset for angle in angles_list]\n",
    "        \n",
    "    labeled_angles = sort_targets_into_labels(angles)\n",
    "    \n",
    "    return labeled_angles"
   ]
  },
  {
   "cell_type": "code",
   "execution_count": 15,
   "metadata": {},
   "outputs": [],
   "source": [
    "def read_spikes(file_path):\n",
    "    \n",
    "    spikes_dataset = np.loadtxt(file_path)\n",
    "    spikes = spikes_dataset.T\n",
    "    \n",
    "    return spikes"
   ]
  },
  {
   "cell_type": "code",
   "execution_count": 16,
   "metadata": {},
   "outputs": [],
   "source": [
    "def sort_targets_into_labels(angles):\n",
    "    \n",
    "    labelled_targets = []\n",
    "    \n",
    "    for angle in angles:\n",
    "        \n",
    "        if(angle >= 0) and (angle <90):\n",
    "            angle_label = '0 to 90'\n",
    "        if(angle >= 90) and (angle <180):\n",
    "            angle_label = '90 to 180'\n",
    "        if(angle >= 180) and (angle < 270):\n",
    "            angle_label = '180 to 270'\n",
    "        if(angle >= 270) and (angle < 360):\n",
    "            angle_label = '270 to 360'\n",
    "        \n",
    "        labelled_targets.append(angle_label)\n",
    "        \n",
    "    return labelled_targets"
   ]
  },
  {
   "cell_type": "code",
   "execution_count": 32,
   "metadata": {},
   "outputs": [],
   "source": [
    "def plot_accuracies(accuracies):\n",
    "    \n",
    "    k_neighbours = np.arange(1,301)\n",
    "    percentile_accuracies = np.multiply(accuracies, 100)\n",
    "    \n",
    "    plt.plot(k_neighbours, percentile_accuracies, color='gold')\n",
    "    plt.title('Accuracies VS Number of Neighbours')\n",
    "    plt.xlabel('K Value')\n",
    "    plt.ylabel('Accuracy')\n",
    "\n",
    "    \n",
    "    plt.savefig('Testing Classification Accuracies')"
   ]
  },
  {
   "cell_type": "code",
   "execution_count": 23,
   "metadata": {},
   "outputs": [],
   "source": [
    "def compute_accuracies(training_spikes, training_labels, testing_spikes, testing_labels):\n",
    "    \n",
    "    classifier_accuracies = []\n",
    "\n",
    "    for k in range(1, 301):\n",
    "\n",
    "        knn = KNeighborsClassifier(n_neighbors=k)\n",
    "        knn.fit(training_spikes, training_labels)\n",
    "        \n",
    "        predicted_angles = knn.predict(testing_spikes)\n",
    "\n",
    "        accuracy = accuracy_score(testing_labels, predicted_angles)\n",
    "        classifier_accuracies.append(accuracy)\n",
    "        \n",
    "    return classifier_accuracies"
   ]
  },
  {
   "cell_type": "markdown",
   "metadata": {},
   "source": [
    "## Deliverables"
   ]
  },
  {
   "cell_type": "code",
   "execution_count": 34,
   "metadata": {},
   "outputs": [
    {
     "data": {
      "image/png": "[encoded data removed]",
      "text/plain": [
       "<Figure size 432x288 with 1 Axes>"
      ]
     },
     "metadata": {
      "needs_background": "light"
     },
     "output_type": "display_data"
    }
   ],
   "source": [
    "training_spikes = read_spikes('Training_SpikeTrains.txt')\n",
    "training_labels = read_angles('Angle_Training.txt')\n",
    "\n",
    "testing_spikes = read_spikes('Testing_SpikeTrains.txt')\n",
    "testing_labels = read_angles('Angle_Testing.txt')\n",
    "\n",
    "classifier_accuracies = compute_accuracies(training_spikes, training_labels, testing_spikes, testing_labels)\n",
    "\n",
    "plot_accuracies(classifier_accuracies)"
   ]
  }
 ],
 "metadata": {
  "kernelspec": {
   "display_name": "Python 3",
   "language": "python",
   "name": "python3"
  },
  "language_info": {
   "codemirror_mode": {
    "name": "ipython",
    "version": 3
   },
   "file_extension": ".py",
   "mimetype": "text/x-python",
   "name": "python",
   "nbconvert_exporter": "python",
   "pygments_lexer": "ipython3",
   "version": "3.7.3"
  }
 },
 "nbformat": 4,
 "nbformat_minor": 2
}
